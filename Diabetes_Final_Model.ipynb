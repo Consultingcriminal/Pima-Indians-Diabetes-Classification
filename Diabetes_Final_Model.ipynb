{
 "cells": [
  {
   "cell_type": "code",
   "execution_count": 1,
   "metadata": {},
   "outputs": [],
   "source": [
    "import numpy as np\n",
    "import pandas as pd\n",
    "import matplotlib.pyplot as plt\n",
    "import seaborn as sns\n",
    "import os\n",
    "from sklearn.model_selection import cross_validate\n",
    "from sklearn.model_selection import train_test_split\n",
    "from sklearn import preprocessing\n",
    "from sklearn.preprocessing import StandardScaler\n",
    "from sklearn.linear_model import LogisticRegression\n",
    "from sklearn.metrics import confusion_matrix, classification_report \n",
    "from sklearn.metrics import roc_auc_score\n",
    "import xgboost as xgf"
   ]
  },
  {
   "cell_type": "code",
   "execution_count": 2,
   "metadata": {},
   "outputs": [
    {
     "name": "stdout",
     "output_type": "stream",
     "text": [
      "C:\\Users\\Stifmeister\\Downloads\\pima-indians-diabetes-database\n",
      "['diabetes.csv']\n"
     ]
    }
   ],
   "source": [
    "os.chdir(r\"C:\\Users\\Stifmeister\\Downloads\\pima-indians-diabetes-database\")\n",
    "print(os.getcwd())\n",
    "print(os.listdir(os.getcwd()))"
   ]
  },
  {
   "cell_type": "code",
   "execution_count": 3,
   "metadata": {},
   "outputs": [],
   "source": [
    "df=pd.read_csv('diabetes.csv')"
   ]
  },
  {
   "cell_type": "code",
   "execution_count": 4,
   "metadata": {},
   "outputs": [
    {
     "name": "stdout",
     "output_type": "stream",
     "text": [
      "(768, 9)\n"
     ]
    }
   ],
   "source": [
    "print(df.shape)"
   ]
  },
  {
   "cell_type": "code",
   "execution_count": 7,
   "metadata": {},
   "outputs": [],
   "source": [
    "import pandas_profiling as pp"
   ]
  },
  {
   "cell_type": "code",
   "execution_count": 7,
   "metadata": {},
   "outputs": [],
   "source": [
    "#pp.ProfileReport(df)"
   ]
  },
  {
   "cell_type": "code",
   "execution_count": 5,
   "metadata": {},
   "outputs": [
    {
     "data": {
      "text/html": [
       "<div>\n",
       "<style scoped>\n",
       "    .dataframe tbody tr th:only-of-type {\n",
       "        vertical-align: middle;\n",
       "    }\n",
       "\n",
       "    .dataframe tbody tr th {\n",
       "        vertical-align: top;\n",
       "    }\n",
       "\n",
       "    .dataframe thead th {\n",
       "        text-align: right;\n",
       "    }\n",
       "</style>\n",
       "<table border=\"1\" class=\"dataframe\">\n",
       "  <thead>\n",
       "    <tr style=\"text-align: right;\">\n",
       "      <th></th>\n",
       "      <th>Glucose</th>\n",
       "      <th>BloodPressure</th>\n",
       "      <th>SkinThickness</th>\n",
       "      <th>Insulin</th>\n",
       "      <th>BMI</th>\n",
       "    </tr>\n",
       "  </thead>\n",
       "  <tbody>\n",
       "    <tr>\n",
       "      <td>0</td>\n",
       "      <td>148.0</td>\n",
       "      <td>72.0</td>\n",
       "      <td>35.0</td>\n",
       "      <td>NaN</td>\n",
       "      <td>33.6</td>\n",
       "    </tr>\n",
       "    <tr>\n",
       "      <td>1</td>\n",
       "      <td>85.0</td>\n",
       "      <td>66.0</td>\n",
       "      <td>29.0</td>\n",
       "      <td>NaN</td>\n",
       "      <td>26.6</td>\n",
       "    </tr>\n",
       "    <tr>\n",
       "      <td>2</td>\n",
       "      <td>183.0</td>\n",
       "      <td>64.0</td>\n",
       "      <td>NaN</td>\n",
       "      <td>NaN</td>\n",
       "      <td>23.3</td>\n",
       "    </tr>\n",
       "    <tr>\n",
       "      <td>3</td>\n",
       "      <td>89.0</td>\n",
       "      <td>66.0</td>\n",
       "      <td>23.0</td>\n",
       "      <td>94.0</td>\n",
       "      <td>28.1</td>\n",
       "    </tr>\n",
       "    <tr>\n",
       "      <td>4</td>\n",
       "      <td>137.0</td>\n",
       "      <td>40.0</td>\n",
       "      <td>35.0</td>\n",
       "      <td>168.0</td>\n",
       "      <td>43.1</td>\n",
       "    </tr>\n",
       "  </tbody>\n",
       "</table>\n",
       "</div>"
      ],
      "text/plain": [
       "   Glucose  BloodPressure  SkinThickness  Insulin   BMI\n",
       "0    148.0           72.0           35.0      NaN  33.6\n",
       "1     85.0           66.0           29.0      NaN  26.6\n",
       "2    183.0           64.0            NaN      NaN  23.3\n",
       "3     89.0           66.0           23.0     94.0  28.1\n",
       "4    137.0           40.0           35.0    168.0  43.1"
      ]
     },
     "execution_count": 5,
     "metadata": {},
     "output_type": "execute_result"
    }
   ],
   "source": [
    "d=df[['Glucose','BloodPressure','SkinThickness','Insulin','BMI']]=df[['Glucose','BloodPressure','SkinThickness','Insulin','BMI']].replace(0,np.nan)\n",
    "d.head()"
   ]
  },
  {
   "cell_type": "code",
   "execution_count": 6,
   "metadata": {},
   "outputs": [],
   "source": [
    "#Replace NaN to mean value to explore dataset\n",
    "\n",
    "d['Glucose'].fillna(df['Glucose'].median(),inplace=True)\n",
    "d['BloodPressure'].fillna(df['BloodPressure'].median(),inplace=True)\n",
    "#df['Pregnancies'].fillna(df['Pregnancies'].median(),inplace=True)\n",
    "d['SkinThickness'].fillna(df['SkinThickness'].median(),inplace=True)\n",
    "d['Insulin'].fillna(df['Insulin'].median(),inplace=True)\n",
    "d['BMI'].fillna(df['BMI'].median(),inplace=True)"
   ]
  },
  {
   "cell_type": "code",
   "execution_count": 10,
   "metadata": {},
   "outputs": [],
   "source": [
    "#pp.ProfileReport(d)"
   ]
  },
  {
   "cell_type": "code",
   "execution_count": 7,
   "metadata": {},
   "outputs": [],
   "source": [
    "#Dropping out BloodPressure and SkinThickness,due to low correlation to the output(due to less unique count)\n",
    "X = np.array(d.drop(['SkinThickness','BloodPressure'], 1))\n",
    "Y=np.array(df['Outcome'])"
   ]
  },
  {
   "cell_type": "code",
   "execution_count": 8,
   "metadata": {},
   "outputs": [
    {
     "name": "stdout",
     "output_type": "stream",
     "text": [
      "(652, 3)\n",
      "(116, 3)\n"
     ]
    }
   ],
   "source": [
    "X_train, X_test, y_train, y_test = train_test_split(X,Y,test_size=0.15,random_state=0)\n",
    "print(X_train.shape)\n",
    "print(X_test.shape)"
   ]
  },
  {
   "cell_type": "code",
   "execution_count": 9,
   "metadata": {},
   "outputs": [
    {
     "data": {
      "text/plain": [
       "0    500\n",
       "1    268\n",
       "Name: Outcome, dtype: int64"
      ]
     },
     "execution_count": 9,
     "metadata": {},
     "output_type": "execute_result"
    }
   ],
   "source": [
    "df.Outcome.value_counts()"
   ]
  },
  {
   "cell_type": "markdown",
   "metadata": {},
   "source": [
    "#This is an inbalanced classification problem with almost 2:1 ratio and may lead to overfitting.\n",
    "#As the data sample is pretty sparse,undersampling is not an option.\n",
    "#Applying Oversampling Techniques."
   ]
  },
  {
   "cell_type": "code",
   "execution_count": 11,
   "metadata": {},
   "outputs": [],
   "source": [
    "from imblearn.over_sampling import SMOTE\n",
    "sm = SMOTE(random_state = 2) \n",
    "X_train_res, y_train_res = sm.fit_sample(X_train, y_train.ravel())"
   ]
  },
  {
   "cell_type": "code",
   "execution_count": 12,
   "metadata": {},
   "outputs": [
    {
     "name": "stdout",
     "output_type": "stream",
     "text": [
      "(844, 3)\n"
     ]
    }
   ],
   "source": [
    "print(X_train_res.shape)"
   ]
  },
  {
   "cell_type": "code",
   "execution_count": 13,
   "metadata": {},
   "outputs": [
    {
     "name": "stdout",
     "output_type": "stream",
     "text": [
      "No. of positives before resampling: 230\n",
      "No. of negatives before resampling: 422\n",
      "No. of positives after resampling: 422\n",
      "No. of negatives after resampling: 422\n"
     ]
    }
   ],
   "source": [
    "print(\"No. of positives before resampling:\",sum(y_train==1))\n",
    "print(\"No. of negatives before resampling:\",sum(y_train==0))\n",
    "print(\"No. of positives after resampling:\",sum(y_train_res == 1))\n",
    "print(\"No. of negatives after resampling:\",sum(y_train_res == 0))\n",
    "#Balancing the unbalanced data\n"
   ]
  },
  {
   "cell_type": "code",
   "execution_count": 14,
   "metadata": {},
   "outputs": [],
   "source": [
    "sc=StandardScaler()\n",
    "X_train=sc.fit_transform(X_train)\n",
    "X_test=sc.transform(X_test)\n",
    "X_train_res=sc.transform(X_train_res)"
   ]
  },
  {
   "cell_type": "code",
   "execution_count": 15,
   "metadata": {},
   "outputs": [
    {
     "name": "stderr",
     "output_type": "stream",
     "text": [
      "C:\\ProgramData\\Anaconda3\\lib\\site-packages\\sklearn\\linear_model\\logistic.py:433: FutureWarning: Default solver will be changed to 'lbfgs' in 0.22. Specify a solver to silence this warning.\n",
      "  FutureWarning)\n"
     ]
    },
    {
     "name": "stdout",
     "output_type": "stream",
     "text": [
      "              precision    recall  f1-score   support\n",
      "\n",
      "           0       0.84      0.88      0.86        78\n",
      "           1       0.74      0.66      0.69        38\n",
      "\n",
      "   micro avg       0.81      0.81      0.81       116\n",
      "   macro avg       0.79      0.77      0.78       116\n",
      "weighted avg       0.81      0.81      0.81       116\n",
      "\n",
      "ROC AUC SCORE: 0.771255060728745\n"
     ]
    }
   ],
   "source": [
    "#Imbalanced Data\n",
    "lr = LogisticRegression() \n",
    "  \n",
    "# train the model on train set \n",
    "lr.fit(X_train, y_train.ravel()) \n",
    "  \n",
    "predictions = lr.predict(X_test) \n",
    "  \n",
    "# print classification report \n",
    "print(classification_report(y_test, predictions)) \n",
    "#accuracies = {}\n",
    "#acc = lr.score(X_test,y_test)*100\n",
    "#accuracies['Logistic Regression'] = acc\n",
    "#print(\"Test Accuracy {:.2f}%\".format(acc))\n",
    "lr_roc_u=roc_auc_score(y_test,predictions)\n",
    "print(\"ROC AUC SCORE:\",lr_roc_u)"
   ]
  },
  {
   "cell_type": "code",
   "execution_count": 16,
   "metadata": {
    "scrolled": true
   },
   "outputs": [
    {
     "name": "stdout",
     "output_type": "stream",
     "text": [
      "              precision    recall  f1-score   support\n",
      "\n",
      "           0       0.83      0.76      0.79        78\n",
      "           1       0.58      0.68      0.63        38\n",
      "\n",
      "   micro avg       0.73      0.73      0.73       116\n",
      "   macro avg       0.70      0.72      0.71       116\n",
      "weighted avg       0.75      0.73      0.74       116\n",
      "\n",
      "ROC AUC SCORE: 0.7203103913630229\n"
     ]
    },
    {
     "name": "stderr",
     "output_type": "stream",
     "text": [
      "C:\\ProgramData\\Anaconda3\\lib\\site-packages\\sklearn\\linear_model\\logistic.py:433: FutureWarning: Default solver will be changed to 'lbfgs' in 0.22. Specify a solver to silence this warning.\n",
      "  FutureWarning)\n"
     ]
    }
   ],
   "source": [
    "#Oversampled Data\n",
    "lr1 = LogisticRegression() \n",
    "lr1.fit(X_train_res, y_train_res.ravel()) \n",
    "predictions = lr1.predict(X_test) \n",
    "  \n",
    "# print classification report \n",
    "print(classification_report(y_test, predictions)) \n",
    "#accuracies1 = {}\n",
    "#acc1 = lr.score(X_test,y_test)*100\n",
    "#accuracies1['Logistic Regression'] = acc\n",
    "#print(\"Test Accuracy {:.2f}%\".format(acc)) \n",
    "lr_roc=roc_auc_score(y_test, predictions)\n",
    "print(\"ROC AUC SCORE:\",lr_roc)\n"
   ]
  },
  {
   "cell_type": "markdown",
   "metadata": {},
   "source": []
  },
  {
   "cell_type": "markdown",
   "metadata": {},
   "source": [
    "#Therefore,as we see in the above two analysis -after using SMOTE though the test accureacy remained same,but the positive recall value increased in the oversampled model.\n",
    "#Therefore,we would most likely fit our upcoming models on the oversampled data."
   ]
  },
  {
   "cell_type": "code",
   "execution_count": 17,
   "metadata": {},
   "outputs": [
    {
     "name": "stdout",
     "output_type": "stream",
     "text": [
      "ROC AUC SCORE: 0.6595816464237517\n"
     ]
    }
   ],
   "source": [
    "from sklearn.neighbors import KNeighborsClassifier\n",
    "knn = KNeighborsClassifier(n_neighbors = 2)  # n_neighbors means k\n",
    "knn.fit(X_train,y_train)\n",
    "prediction = knn.predict(X_test)\n",
    "\n",
    "#print(\"{} NN Score: {:.2f}%\".format(2, knn.score(X_test, y_test)*100))\n",
    "KNN_roc=roc_auc_score(y_test, prediction)\n",
    "print(\"ROC AUC SCORE:\",KNN_roc)"
   ]
  },
  {
   "cell_type": "code",
   "execution_count": 18,
   "metadata": {},
   "outputs": [
    {
     "data": {
      "image/png": "[encoded data removed]",
      "text/plain": [
       "<Figure size 432x288 with 1 Axes>"
      ]
     },
     "metadata": {
      "needs_background": "light"
     },
     "output_type": "display_data"
    },
    {
     "name": "stdout",
     "output_type": "stream",
     "text": [
      "Maximum KNN Score is 81.03%\n",
      "at n= 14\n"
     ]
    }
   ],
   "source": [
    "# tuning  find best k value\n",
    "scoreList = []\n",
    "for i in range(1,20):\n",
    "    knn2 = KNeighborsClassifier(n_neighbors = i)  # n_neighbors means k\n",
    "    knn2.fit(X_train, y_train)\n",
    "    scoreList.append(knn2.score(X_test, y_test))\n",
    "    \n",
    "plt.plot(range(1,20), scoreList)\n",
    "plt.xticks(np.arange(1,20,1))\n",
    "plt.xlabel(\"K value\")\n",
    "plt.ylabel(\"Score\")\n",
    "plt.show()\n",
    "n=scoreList.index(max(scoreList))\n",
    "acc = max(scoreList)*100\n",
    "#accuracies['KNN'] = acc\n",
    "print(\"Maximum KNN Score is {:.2f}%\".format(acc))\n",
    "print(\"at n=\",n+1)"
   ]
  },
  {
   "cell_type": "code",
   "execution_count": null,
   "metadata": {},
   "outputs": [],
   "source": [
    "#SVM"
   ]
  },
  {
   "cell_type": "code",
   "execution_count": 42,
   "metadata": {},
   "outputs": [],
   "source": [
    "from sklearn.svm import SVC"
   ]
  },
  {
   "cell_type": "code",
   "execution_count": 56,
   "metadata": {},
   "outputs": [
    {
     "name": "stdout",
     "output_type": "stream",
     "text": [
      "ROC AUC SCORE: 0.7580971659919028\n"
     ]
    }
   ],
   "source": [
    "svm = SVC(random_state = 1,kernel='linear',C=1)\n",
    "svm.fit(X_train, y_train)\n",
    "prediction = svm.predict(X_test)\n",
    "acc = svm.score(X_test,y_test)*100\n",
    "#accuracies['SVM'] = acc\n",
    "#print(\"Test Accuracy of SVM Algorithm: {:.2f}%\".format(acc))\n",
    "svm_roc=roc_auc_score(y_test,prediction)\n",
    "print(\"ROC AUC SCORE:\",svm_roc)\n"
   ]
  },
  {
   "cell_type": "code",
   "execution_count": 36,
   "metadata": {},
   "outputs": [],
   "source": [
    "#Random Forest"
   ]
  },
  {
   "cell_type": "code",
   "execution_count": 70,
   "metadata": {},
   "outputs": [
    {
     "data": {
      "text/plain": [
       "RandomForestClassifier(bootstrap=True, class_weight=None, criterion='gini',\n",
       "            max_depth=5, max_features='sqrt', max_leaf_nodes=None,\n",
       "            min_impurity_decrease=0.0, min_impurity_split=None,\n",
       "            min_samples_leaf=1, min_samples_split=2,\n",
       "            min_weight_fraction_leaf=0.0, n_estimators=100, n_jobs=None,\n",
       "            oob_score=False, random_state=None, verbose=0,\n",
       "            warm_start=False)"
      ]
     },
     "execution_count": 70,
     "metadata": {},
     "output_type": "execute_result"
    }
   ],
   "source": [
    "from sklearn.ensemble import RandomForestClassifier\n",
    "# Create the model with 100 trees\n",
    "model = RandomForestClassifier(n_estimators=100, \n",
    "                               bootstrap = True,\n",
    "                               max_features = 'sqrt',max_depth=5)\n",
    "# Fit on training data\n",
    "\n",
    "model.fit(X_train, y_train)\n",
    "#acc=print(model.score(X_test,y_test)*100)"
   ]
  },
  {
   "cell_type": "code",
   "execution_count": 71,
   "metadata": {},
   "outputs": [],
   "source": [
    "rf_predictions = model.predict(X_test)\n",
    "# Probabilities for each class\n",
    "rf_probs = model.predict_proba(X_test)[:, 1]"
   ]
  },
  {
   "cell_type": "code",
   "execution_count": 82,
   "metadata": {},
   "outputs": [
    {
     "name": "stdout",
     "output_type": "stream",
     "text": [
      "The roc_auc value is: 0.8301282051282051\n"
     ]
    }
   ],
   "source": [
    "from sklearn.metrics import roc_auc_score\n",
    "# Calculate roc auc\n",
    "random_roc_value = roc_auc_score(y_test, rf_probs)\n",
    "print(\"The roc_auc value is:\",random_roc_value)"
   ]
  },
  {
   "cell_type": "code",
   "execution_count": 73,
   "metadata": {},
   "outputs": [],
   "source": [
    "from sklearn.model_selection import RandomizedSearchCV\n",
    "from scipy.stats import randint"
   ]
  },
  {
   "cell_type": "code",
   "execution_count": 75,
   "metadata": {},
   "outputs": [
    {
     "name": "stderr",
     "output_type": "stream",
     "text": [
      "C:\\ProgramData\\Anaconda3\\lib\\site-packages\\sklearn\\model_selection\\_search.py:841: DeprecationWarning: The default of the `iid` parameter will change from True to False in version 0.22 and will be removed in 0.24. This will change numeric results when test-set sizes are unequal.\n",
      "  DeprecationWarning)\n"
     ]
    }
   ],
   "source": [
    "est = RandomForestClassifier(n_jobs=-1)\n",
    "\n",
    "rf_p_dist={'max_depth':[3,5,10,None],\n",
    "\n",
    "              'n_estimators':[10,100,200,300,400,500],\n",
    "\n",
    "              'max_features':randint(1,3),\n",
    "\n",
    "               'criterion':['gini','entropy'],\n",
    "\n",
    "               'bootstrap':[True,False],\n",
    "\n",
    "               'min_samples_leaf':randint(1,4),\n",
    "\n",
    "              }\n",
    "\n",
    "def hypertuning_rscv(est, p_distr, nbr_iter,X,y):\n",
    "\n",
    "    rdmsearch = RandomizedSearchCV(est, param_distributions=p_distr,\n",
    "\n",
    "                                  n_jobs=-1, n_iter=nbr_iter, cv=9)\n",
    "\n",
    "    #CV = Cross-Validation ( here using Stratified KFold CV)\n",
    "\n",
    "    rdmsearch.fit(X,y)\n",
    "\n",
    "    ht_params = rdmsearch.best_params_\n",
    "\n",
    "    ht_score = rdmsearch.best_score_\n",
    "\n",
    "    return ht_params, ht_score\n",
    "\n",
    "\n",
    "rf_parameters, rf_ht_score = hypertuning_rscv(est, rf_p_dist, 40, X_train, y_train)\n",
    "#claasifier=RandomForestClassifier(n_jobs=-1, n_estimators=300,bootstrap= True,criterion='entropy',max_depth=3,max_features=2,min_samples_leaf= 3)\n",
    "\n"
   ]
  },
  {
   "cell_type": "code",
   "execution_count": 76,
   "metadata": {},
   "outputs": [
    {
     "name": "stdout",
     "output_type": "stream",
     "text": [
      "{'bootstrap': True, 'criterion': 'gini', 'max_depth': 3, 'max_features': 2, 'min_samples_leaf': 3, 'n_estimators': 10}\n"
     ]
    }
   ],
   "source": [
    "print(rf_parameters)"
   ]
  },
  {
   "cell_type": "code",
   "execution_count": 77,
   "metadata": {},
   "outputs": [
    {
     "name": "stdout",
     "output_type": "stream",
     "text": [
      "0.754601226993865\n"
     ]
    }
   ],
   "source": [
    "print(rf_ht_score)"
   ]
  },
  {
   "cell_type": "code",
   "execution_count": 85,
   "metadata": {},
   "outputs": [
    {
     "data": {
      "text/plain": [
       "RandomForestClassifier(bootstrap=True, class_weight=None, criterion='gini',\n",
       "            max_depth=3, max_features=2, max_leaf_nodes=None,\n",
       "            min_impurity_decrease=0.0, min_impurity_split=None,\n",
       "            min_samples_leaf=3, min_samples_split=2,\n",
       "            min_weight_fraction_leaf=0.0, n_estimators=10, n_jobs=None,\n",
       "            oob_score=False, random_state=None, verbose=0,\n",
       "            warm_start=False)"
      ]
     },
     "execution_count": 85,
     "metadata": {},
     "output_type": "execute_result"
    }
   ],
   "source": [
    "from sklearn.ensemble import RandomForestClassifier\n",
    "# Create the model with 100 trees\n",
    "model1 = RandomForestClassifier(n_estimators=10, \n",
    "                               bootstrap = True,\n",
    "                               max_features = 2,max_depth=3,criterion='gini',min_samples_leaf=3)\n",
    "# Fit on training data\n",
    "\n",
    "model1.fit(X_train, y_train)\n",
    "#acc=print(model.score(X_test,y_test)*100)"
   ]
  },
  {
   "cell_type": "code",
   "execution_count": 86,
   "metadata": {},
   "outputs": [],
   "source": [
    "rf_predictions1 = model1.predict(X_test)\n",
    "# Probabilities for each class\n",
    "rf_probs1 = model1.predict_proba(X_test)[:, 1]"
   ]
  },
  {
   "cell_type": "code",
   "execution_count": 87,
   "metadata": {},
   "outputs": [
    {
     "name": "stdout",
     "output_type": "stream",
     "text": [
      "The roc_auc value is: 0.8345141700404858\n"
     ]
    }
   ],
   "source": [
    "from sklearn.metrics import roc_auc_score\n",
    "# Calculate roc auc\n",
    "random_roc_value1 = roc_auc_score(y_test, rf_probs1)\n",
    "print(\"The roc_auc value is:\",random_roc_value1)"
   ]
  },
  {
   "cell_type": "code",
   "execution_count": 46,
   "metadata": {},
   "outputs": [],
   "source": [
    "#Though the roc score seems to be same for both,the max depth and no. of nodes are less in tuned model.\n",
    "#Therefore,we would prefer using second model for the purpose of computing efficiency\n",
    "#Hence the random forest seems to have the best sepratablity"
   ]
  },
  {
   "cell_type": "code",
   "execution_count": 88,
   "metadata": {},
   "outputs": [
    {
     "name": "stdout",
     "output_type": "stream",
     "text": [
      "[0.771255060728745, 0.7203103913630229, 0.6595816464237517, 0.7580971659919028, 0.8301282051282051]\n",
      "['Logistic Regression unsampled', 'logistic Regression oversampled', 'KNN', 'Linear SVM', 'Random_Forest']\n"
     ]
    }
   ],
   "source": [
    "roc_auc=[]\n",
    "roc_auc.append(lr_roc_u)\n",
    "roc_auc.append(lr_roc)\n",
    "roc_auc.append(KNN_roc)\n",
    "roc_auc.append(svm_roc)\n",
    "roc_auc.append(random_roc_value)\n",
    "#print(roc_auc)\n",
    "algo=[]\n",
    "algo.append(\"Logistic Regression unsampled\")\n",
    "algo.append(\"logistic Regression oversampled\")\n",
    "algo.append(\"KNN\")\n",
    "algo.append(\"Linear SVM\")\n",
    "algo.append(\"Random_Forest\")\n",
    "#print(algo)"
   ]
  },
  {
   "cell_type": "code",
   "execution_count": 90,
   "metadata": {},
   "outputs": [
    {
     "data": {
      "image/png": "[encoded data removed]",
      "text/plain": [
       "<Figure size 1152x360 with 1 Axes>"
      ]
     },
     "metadata": {},
     "output_type": "display_data"
    }
   ],
   "source": [
    "colors = [\"indigo\", \"green\", \"orange\", \"red\",\"blue\"]\n",
    "sns.set_style(\"whitegrid\")\n",
    "plt.figure(figsize=(16,5))\n",
    "plt.yticks(np.arange(0,100,10))\n",
    "plt.ylabel(\"Accuracy %\")\n",
    "plt.xlabel(\"Algorithms\")\n",
    "sns.barplot(x=list(algo), y=list(roc_auc), palette=colors)\n",
    "plt.show()"
   ]
  },
  {
   "cell_type": "code",
   "execution_count": 64,
   "metadata": {},
   "outputs": [],
   "source": [
    "#We would be selecting Random Forest,due to its higher sepratablity"
   ]
  },
  {
   "cell_type": "code",
   "execution_count": 65,
   "metadata": {},
   "outputs": [],
   "source": [
    "#Confusion Matrices"
   ]
  },
  {
   "cell_type": "code",
   "execution_count": 94,
   "metadata": {},
   "outputs": [],
   "source": [
    "# Predicted values\n",
    "y_head_rf = model1.predict(X_test)"
   ]
  },
  {
   "cell_type": "code",
   "execution_count": 95,
   "metadata": {},
   "outputs": [],
   "source": [
    "from sklearn.metrics import confusion_matrix\n",
    "cm_rf = confusion_matrix(y_test,y_head_rf)"
   ]
  },
  {
   "cell_type": "code",
   "execution_count": 96,
   "metadata": {},
   "outputs": [
    {
     "data": {
      "image/png": "[encoded data removed]",
      "text/plain": [
       "<Figure size 1728x864 with 1 Axes>"
      ]
     },
     "metadata": {},
     "output_type": "display_data"
    }
   ],
   "source": [
    "plt.figure(figsize=(24,12))\n",
    "\n",
    "plt.suptitle(\"Confusion Matrixes\",fontsize=24)\n",
    "plt.subplots_adjust(wspace = 0.4, hspace= 0.4)\n",
    "plt.subplot(2,3,2)\n",
    "plt.title(\"Random Forest Confusion Matrix\")\n",
    "sns.heatmap(cm_rf,annot=True,cmap=\"Blues\",fmt=\"d\",cbar=False, annot_kws={\"size\": 24})\n",
    "plt.show()"
   ]
  },
  {
   "cell_type": "code",
   "execution_count": null,
   "metadata": {},
   "outputs": [],
   "source": []
  }
 ],
 "metadata": {
  "kernelspec": {
   "display_name": "Python 3",
   "language": "python",
   "name": "python3"
  },
  "language_info": {
   "codemirror_mode": {
    "name": "ipython",
    "version": 3
   },
   "file_extension": ".py",
   "mimetype": "text/x-python",
   "name": "python",
   "nbconvert_exporter": "python",
   "pygments_lexer": "ipython3",
   "version": "3.7.7"
  }
 },
 "nbformat": 4,
 "nbformat_minor": 2
}
